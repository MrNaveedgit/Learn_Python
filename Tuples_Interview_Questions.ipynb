{
  "nbformat": 4,
  "nbformat_minor": 0,
  "metadata": {
    "colab": {
      "name": "Tuples Interview Questions.ipynb",
      "provenance": [],
      "collapsed_sections": []
    },
    "kernelspec": {
      "name": "python3",
      "display_name": "Python 3"
    },
    "language_info": {
      "name": "python"
    }
  },
  "cells": [
    {
      "cell_type": "code",
      "source": [
        "skills_tuple = [('DataScience', 1), ('AI', 2), ('AI', 2), (\"CV\",3), (\"NLP\",4)]\n",
        "skills_tuple"
      ],
      "metadata": {
        "id": "N4DM9wAUR0Tr",
        "colab": {
          "base_uri": "https://localhost:8080/"
        },
        "outputId": "323d7e4e-47d9-4f80-9b09-7281bb4e95c8"
      },
      "execution_count": 1,
      "outputs": [
        {
          "output_type": "execute_result",
          "data": {
            "text/plain": [
              "[('DataScience', 1), ('AI', 2), ('AI', 2), ('CV', 3), ('NLP', 4)]"
            ]
          },
          "metadata": {},
          "execution_count": 1
        }
      ]
    },
    {
      "cell_type": "code",
      "source": [
        "skills_tuple.sort(key = lambda item:item[1])"
      ],
      "metadata": {
        "id": "XCAAQSUVEQ7h"
      },
      "execution_count": 2,
      "outputs": []
    },
    {
      "cell_type": "code",
      "source": [
        "skills_tuple"
      ],
      "metadata": {
        "colab": {
          "base_uri": "https://localhost:8080/"
        },
        "id": "N0Tyix9dE-LX",
        "outputId": "fa0e6a6e-a8f7-4f08-8312-d02cac1c02f7"
      },
      "execution_count": 3,
      "outputs": [
        {
          "output_type": "execute_result",
          "data": {
            "text/plain": [
              "[('DataScience', 1), ('AI', 2), ('AI', 2), ('CV', 3), ('NLP', 4)]"
            ]
          },
          "metadata": {},
          "execution_count": 3
        }
      ]
    },
    {
      "cell_type": "markdown",
      "source": [
        "## Remove Duplicate Values"
      ],
      "metadata": {
        "id": "6SVhUtNFFCnQ"
      }
    },
    {
      "cell_type": "code",
      "source": [
        "unique_list_of_tuple = list(set([item for item in skills_tuple]))\n",
        "print(unique_list_of_tuple)"
      ],
      "metadata": {
        "colab": {
          "base_uri": "https://localhost:8080/"
        },
        "id": "Bgl4vjLVE_am",
        "outputId": "56d8aa94-e0fa-4f38-f765-d05233dc6959"
      },
      "execution_count": 4,
      "outputs": [
        {
          "output_type": "stream",
          "name": "stdout",
          "text": [
            "[('AI', 2), ('DataScience', 1), ('NLP', 4), ('CV', 3)]\n"
          ]
        }
      ]
    },
    {
      "cell_type": "markdown",
      "source": [
        "## Find Item in Tuple"
      ],
      "metadata": {
        "id": "W9sG0G_IFQI5"
      }
    },
    {
      "cell_type": "code",
      "source": [
        "my_tuple = ('AI', 'ML', 'NLP')\n",
        "print(my_tuple)\n"
      ],
      "metadata": {
        "colab": {
          "base_uri": "https://localhost:8080/"
        },
        "id": "vf3siLvSFNFf",
        "outputId": "95ae3c60-4b92-4d62-d01f-9fc0ceb6582a"
      },
      "execution_count": 5,
      "outputs": [
        {
          "output_type": "stream",
          "name": "stdout",
          "text": [
            "('AI', 'ML', 'NLP')\n"
          ]
        }
      ]
    },
    {
      "cell_type": "code",
      "source": [
        "find_item = 'CV'\n",
        "if find_item in my_tuple:\n",
        "  print(\"Element exsist in tuple\")\n",
        "else:\n",
        "  print(\"Element doesn't exsist in tuple\")"
      ],
      "metadata": {
        "colab": {
          "base_uri": "https://localhost:8080/"
        },
        "id": "V5N0hdjzFXz2",
        "outputId": "cad997ab-6c19-4784-dc3a-22abf2b5642b"
      },
      "execution_count": 7,
      "outputs": [
        {
          "output_type": "stream",
          "name": "stdout",
          "text": [
            "Element doesn't exsist in tuple\n"
          ]
        }
      ]
    },
    {
      "cell_type": "code",
      "source": [
        ""
      ],
      "metadata": {
        "id": "K4Yua3a0Fjp3"
      },
      "execution_count": null,
      "outputs": []
    }
  ]
}