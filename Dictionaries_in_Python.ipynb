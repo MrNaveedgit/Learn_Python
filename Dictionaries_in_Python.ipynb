{
  "nbformat": 4,
  "nbformat_minor": 0,
  "metadata": {
    "colab": {
      "name": "Dictionaries in Python.ipynb",
      "provenance": []
    },
    "kernelspec": {
      "name": "python3",
      "display_name": "Python 3"
    },
    "language_info": {
      "name": "python"
    }
  },
  "cells": [
    {
      "cell_type": "code",
      "source": [
        "my_dict = {'AI':79, 'DS': 89, 'ML': 98, 'NLP': 80}\n",
        "print(my_dict)"
      ],
      "metadata": {
        "colab": {
          "base_uri": "https://localhost:8080/"
        },
        "id": "0V7CfyjNVA0i",
        "outputId": "bd18b03d-a010-419b-bd2a-f4618db92efe"
      },
      "execution_count": 1,
      "outputs": [
        {
          "output_type": "stream",
          "name": "stdout",
          "text": [
            "{'AI': 79, 'DS': 89, 'ML': 98, 'NLP': 80}\n"
          ]
        }
      ]
    },
    {
      "cell_type": "code",
      "source": [
        "len(my_dict)"
      ],
      "metadata": {
        "colab": {
          "base_uri": "https://localhost:8080/"
        },
        "id": "rBeTFGbWVmYg",
        "outputId": "3268593d-2155-466e-925e-0ffd32ba0e38"
      },
      "execution_count": 2,
      "outputs": [
        {
          "output_type": "execute_result",
          "data": {
            "text/plain": [
              "4"
            ]
          },
          "metadata": {},
          "execution_count": 2
        }
      ]
    },
    {
      "cell_type": "code",
      "source": [
        "my_dict.keys()"
      ],
      "metadata": {
        "colab": {
          "base_uri": "https://localhost:8080/"
        },
        "id": "R38WCjcNVrZB",
        "outputId": "a63a0d02-5969-4c56-dc3c-59b99f7c9218"
      },
      "execution_count": 3,
      "outputs": [
        {
          "output_type": "execute_result",
          "data": {
            "text/plain": [
              "dict_keys(['AI', 'DS', 'ML', 'NLP'])"
            ]
          },
          "metadata": {},
          "execution_count": 3
        }
      ]
    },
    {
      "cell_type": "code",
      "source": [
        "my_dict.values()"
      ],
      "metadata": {
        "colab": {
          "base_uri": "https://localhost:8080/"
        },
        "id": "1nTwYUtOVw0z",
        "outputId": "0e8da631-69d9-4963-d426-e8b90226189b"
      },
      "execution_count": 4,
      "outputs": [
        {
          "output_type": "execute_result",
          "data": {
            "text/plain": [
              "dict_values([79, 89, 98, 80])"
            ]
          },
          "metadata": {},
          "execution_count": 4
        }
      ]
    },
    {
      "cell_type": "markdown",
      "source": [
        "## Change values"
      ],
      "metadata": {
        "id": "Mo6BRCIIV57i"
      }
    },
    {
      "cell_type": "code",
      "source": [
        "my_dict['AI'] = 99\n",
        "print(my_dict)"
      ],
      "metadata": {
        "colab": {
          "base_uri": "https://localhost:8080/"
        },
        "id": "KHG3sprVV1Jj",
        "outputId": "356ec0d6-ef09-4303-f5a3-eba8e6397f02"
      },
      "execution_count": 5,
      "outputs": [
        {
          "output_type": "stream",
          "name": "stdout",
          "text": [
            "{'AI': 99, 'DS': 89, 'ML': 98, 'NLP': 80}\n"
          ]
        }
      ]
    },
    {
      "cell_type": "code",
      "source": [
        "my_dict['CV'] = 67\n",
        "print(my_dict)"
      ],
      "metadata": {
        "colab": {
          "base_uri": "https://localhost:8080/"
        },
        "id": "nSQheZoMWCD2",
        "outputId": "f7e9ac3d-73d2-4d62-b051-4973debb9fda"
      },
      "execution_count": 6,
      "outputs": [
        {
          "output_type": "stream",
          "name": "stdout",
          "text": [
            "{'AI': 99, 'DS': 89, 'ML': 98, 'NLP': 80, 'CV': 67}\n"
          ]
        }
      ]
    },
    {
      "cell_type": "markdown",
      "source": [
        "## Delete items"
      ],
      "metadata": {
        "id": "dX-VUfSTWRDi"
      }
    },
    {
      "cell_type": "code",
      "source": [
        "my_dict.pop('CV')\n",
        "print(my_dict)"
      ],
      "metadata": {
        "colab": {
          "base_uri": "https://localhost:8080/"
        },
        "id": "jF3EizD-WLHp",
        "outputId": "3e8d206b-fff7-4ecf-f6e7-15e09fa6c262"
      },
      "execution_count": 7,
      "outputs": [
        {
          "output_type": "stream",
          "name": "stdout",
          "text": [
            "{'AI': 99, 'DS': 89, 'ML': 98, 'NLP': 80}\n"
          ]
        }
      ]
    },
    {
      "cell_type": "code",
      "source": [
        "my_dict.popitem()"
      ],
      "metadata": {
        "colab": {
          "base_uri": "https://localhost:8080/"
        },
        "id": "1AvRERpMWdsH",
        "outputId": "f34c3976-cf18-46d6-82f9-c3220c0263c8"
      },
      "execution_count": 8,
      "outputs": [
        {
          "output_type": "execute_result",
          "data": {
            "text/plain": [
              "('NLP', 80)"
            ]
          },
          "metadata": {},
          "execution_count": 8
        }
      ]
    },
    {
      "cell_type": "code",
      "source": [
        "print(my_dict)"
      ],
      "metadata": {
        "colab": {
          "base_uri": "https://localhost:8080/"
        },
        "id": "4W8WBP7fWit4",
        "outputId": "84757017-b417-4608-ed77-f1a317a8d0ea"
      },
      "execution_count": 9,
      "outputs": [
        {
          "output_type": "stream",
          "name": "stdout",
          "text": [
            "{'AI': 99, 'DS': 89, 'ML': 98}\n"
          ]
        }
      ]
    },
    {
      "cell_type": "markdown",
      "source": [
        "## Iterate Dict"
      ],
      "metadata": {
        "id": "boQ8f5BiWsvR"
      }
    },
    {
      "cell_type": "code",
      "source": [
        "for x in my_dict:\n",
        "  print(x)"
      ],
      "metadata": {
        "colab": {
          "base_uri": "https://localhost:8080/"
        },
        "id": "t2cYTgEgWzKa",
        "outputId": "741f8148-ea0c-4c59-bb96-b44bd0ff0219"
      },
      "execution_count": 11,
      "outputs": [
        {
          "output_type": "stream",
          "name": "stdout",
          "text": [
            "AI\n",
            "DS\n",
            "ML\n"
          ]
        }
      ]
    },
    {
      "cell_type": "code",
      "source": [
        "for x in my_dict:\n",
        "  print(my_dict[x])"
      ],
      "metadata": {
        "colab": {
          "base_uri": "https://localhost:8080/"
        },
        "id": "rSI6sEoYW4LS",
        "outputId": "797a25fe-3131-47cd-cb94-97dcdead535d"
      },
      "execution_count": 12,
      "outputs": [
        {
          "output_type": "stream",
          "name": "stdout",
          "text": [
            "99\n",
            "89\n",
            "98\n"
          ]
        }
      ]
    },
    {
      "cell_type": "code",
      "source": [
        ""
      ],
      "metadata": {
        "id": "Hs1PnTS0W8MS"
      },
      "execution_count": null,
      "outputs": []
    }
  ]
}