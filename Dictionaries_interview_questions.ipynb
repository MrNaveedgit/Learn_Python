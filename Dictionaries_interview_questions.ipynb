{
  "nbformat": 4,
  "nbformat_minor": 0,
  "metadata": {
    "colab": {
      "name": "Dictionaries Interview Questions.ipynb",
      "provenance": []
    },
    "kernelspec": {
      "name": "python3",
      "display_name": "Python 3"
    },
    "language_info": {
      "name": "python"
    }
  },
  "cells": [
    {
      "cell_type": "markdown",
      "source": [
        "## Check Key in Dict"
      ],
      "metadata": {
        "id": "Zh6NZghWJfSj"
      }
    },
    {
      "cell_type": "code",
      "execution_count": 8,
      "metadata": {
        "colab": {
          "base_uri": "https://localhost:8080/"
        },
        "id": "ekqoaST-JY64",
        "outputId": "b5276798-434f-48aa-ae74-539453e5fbe2"
      },
      "outputs": [
        {
          "output_type": "stream",
          "name": "stdout",
          "text": [
            "{'AI': 99, 'ML': 90, 'DS': 87}\n"
          ]
        }
      ],
      "source": [
        "my_dict = {'AI':99, 'ML':90, 'DS':87}\n",
        "print(my_dict)"
      ]
    },
    {
      "cell_type": "code",
      "source": [
        "if 'ML' in my_dict:\n",
        "  print(\"ML Exsist\")\n",
        "else:\n",
        "  print(\"ML not found\")"
      ],
      "metadata": {
        "colab": {
          "base_uri": "https://localhost:8080/"
        },
        "id": "obOI4mmjJeQf",
        "outputId": "bcc0ae8f-04e6-4888-ced8-2d1813875a53"
      },
      "execution_count": 2,
      "outputs": [
        {
          "output_type": "stream",
          "name": "stdout",
          "text": [
            "ML Exsist\n"
          ]
        }
      ]
    },
    {
      "cell_type": "markdown",
      "source": [
        "## Clean Dict"
      ],
      "metadata": {
        "id": "1Of6b9rnKiyb"
      }
    },
    {
      "cell_type": "code",
      "source": [
        "my_dict.clear()"
      ],
      "metadata": {
        "id": "11X4S62eJwne"
      },
      "execution_count": 3,
      "outputs": []
    },
    {
      "cell_type": "code",
      "source": [
        "print(my_dict)"
      ],
      "metadata": {
        "colab": {
          "base_uri": "https://localhost:8080/"
        },
        "id": "apWzC9y4KnPz",
        "outputId": "89554e72-547c-4f1b-bd65-b1f3d86fc6ca"
      },
      "execution_count": 4,
      "outputs": [
        {
          "output_type": "stream",
          "name": "stdout",
          "text": [
            "{}\n"
          ]
        }
      ]
    },
    {
      "cell_type": "markdown",
      "source": [
        "## Copy of Dictionary"
      ],
      "metadata": {
        "id": "pL98SizrKreh"
      }
    },
    {
      "cell_type": "code",
      "source": [
        "my_dict_new = my_dict.copy()"
      ],
      "metadata": {
        "id": "BaAILbCxKp_g"
      },
      "execution_count": 9,
      "outputs": []
    },
    {
      "cell_type": "code",
      "source": [
        "print(my_dict_new)"
      ],
      "metadata": {
        "colab": {
          "base_uri": "https://localhost:8080/"
        },
        "id": "G-iweBREKzq7",
        "outputId": "a649cd2c-43cc-4a7f-a64a-c8a96b3f8281"
      },
      "execution_count": 10,
      "outputs": [
        {
          "output_type": "stream",
          "name": "stdout",
          "text": [
            "{'AI': 99, 'ML': 90, 'DS': 87}\n"
          ]
        }
      ]
    },
    {
      "cell_type": "code",
      "source": [
        "my_dict_new['AI'] = 76\n",
        "print(my_dict_new)"
      ],
      "metadata": {
        "colab": {
          "base_uri": "https://localhost:8080/"
        },
        "id": "F1K4ukvcK025",
        "outputId": "c5d1ebf1-6103-4b91-bb7f-dbb20c1cb609"
      },
      "execution_count": 11,
      "outputs": [
        {
          "output_type": "stream",
          "name": "stdout",
          "text": [
            "{'AI': 76, 'ML': 90, 'DS': 87}\n"
          ]
        }
      ]
    },
    {
      "cell_type": "code",
      "source": [
        "my_dict"
      ],
      "metadata": {
        "colab": {
          "base_uri": "https://localhost:8080/"
        },
        "id": "qnBSCLqjK4tJ",
        "outputId": "c7dcfa7e-bb9d-487e-ff77-5fe927b016b3"
      },
      "execution_count": 12,
      "outputs": [
        {
          "output_type": "execute_result",
          "data": {
            "text/plain": [
              "{'AI': 99, 'DS': 87, 'ML': 90}"
            ]
          },
          "metadata": {},
          "execution_count": 12
        }
      ]
    },
    {
      "cell_type": "code",
      "source": [
        ""
      ],
      "metadata": {
        "id": "_KfRG59iLCDw"
      },
      "execution_count": null,
      "outputs": []
    }
  ]
}