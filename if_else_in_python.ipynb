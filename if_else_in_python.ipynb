{
  "nbformat": 4,
  "nbformat_minor": 0,
  "metadata": {
    "colab": {
      "name": "if-else in python.ipynb",
      "provenance": []
    },
    "kernelspec": {
      "name": "python3",
      "display_name": "Python 3"
    },
    "language_info": {
      "name": "python"
    }
  },
  "cells": [
    {
      "cell_type": "code",
      "source": [
        "marks = 32\n",
        "\n",
        "if marks >= 90:\n",
        "  print(\"Congratulation\")"
      ],
      "metadata": {
        "id": "V_6LnCua65zK"
      },
      "execution_count": 34,
      "outputs": []
    },
    {
      "cell_type": "code",
      "source": [
        "if marks >= 90:\n",
        "  print(\"Congratulation\")\n",
        "elif marks >=80:\n",
        "  print(\"Pass\")"
      ],
      "metadata": {
        "colab": {
          "base_uri": "https://localhost:8080/"
        },
        "id": "jD4TpKtIA6a5",
        "outputId": "86b7736a-68ee-4d10-dc54-b1f3ab8bf0a1"
      },
      "execution_count": 32,
      "outputs": [
        {
          "output_type": "stream",
          "name": "stdout",
          "text": [
            "Pass\n"
          ]
        }
      ]
    },
    {
      "cell_type": "code",
      "source": [
        "if marks >= 90:\n",
        "  print(\"Congratulation\")\n",
        "elif marks >=80:\n",
        "  print(\"Pass\")\n",
        "else:\n",
        "  print(\"I am sorry to say you are not pass\")"
      ],
      "metadata": {
        "colab": {
          "base_uri": "https://localhost:8080/"
        },
        "id": "0D2mKT-rBXnm",
        "outputId": "a410e912-2413-4c2a-b01b-86d005272b10"
      },
      "execution_count": 35,
      "outputs": [
        {
          "output_type": "stream",
          "name": "stdout",
          "text": [
            "I am sorry to say you are not pass\n"
          ]
        }
      ]
    },
    {
      "cell_type": "code",
      "source": [
        "\n",
        "if marks >= 90: print(\"Congratulation\")"
      ],
      "metadata": {
        "colab": {
          "base_uri": "https://localhost:8080/"
        },
        "id": "WCXCfSKtBpj9",
        "outputId": "544ac8a3-fd26-4285-a0c9-3977c7811913"
      },
      "execution_count": 36,
      "outputs": [
        {
          "output_type": "stream",
          "name": "stdout",
          "text": [
            "Congratulation\n"
          ]
        }
      ]
    },
    {
      "cell_type": "code",
      "source": [
        "\n",
        "\n",
        "\n",
        "if marks>40 and attendance>70:\n",
        "  print(\"congratulation\")\n",
        "else:\n",
        "  print(\"Sorry\")"
      ],
      "metadata": {
        "colab": {
          "base_uri": "https://localhost:8080/"
        },
        "id": "hQxvx5hBB0fn",
        "outputId": "6c0c46a0-a780-4e80-bbc4-b79f6d20545b"
      },
      "execution_count": 38,
      "outputs": [
        {
          "output_type": "stream",
          "name": "stdout",
          "text": [
            "Sorry\n"
          ]
        }
      ]
    },
    {
      "cell_type": "markdown",
      "source": [
        "## Nested if Statement"
      ],
      "metadata": {
        "id": "-5X5B6m_CRRo"
      }
    },
    {
      "cell_type": "code",
      "source": [
        "attendance = 88\n",
        "marks = 99\n",
        "\n",
        "\n",
        "if marks > 90:\n",
        "  if attendance > 70:\n",
        "    print(\"pass\")\n",
        "  else:\n",
        "    print(\"sorry\")"
      ],
      "metadata": {
        "colab": {
          "base_uri": "https://localhost:8080/"
        },
        "id": "85nZmacUCHIF",
        "outputId": "63e37e41-4592-48cc-99ef-b632628f3e92"
      },
      "execution_count": 40,
      "outputs": [
        {
          "output_type": "stream",
          "name": "stdout",
          "text": [
            "pass\n"
          ]
        }
      ]
    },
    {
      "cell_type": "markdown",
      "source": [
        "## Pass"
      ],
      "metadata": {
        "id": "xm37qeRYCv-y"
      }
    },
    {
      "cell_type": "code",
      "source": [
        "if marks> 90:\n",
        "  pass\n",
        "  "
      ],
      "metadata": {
        "id": "8DquO-Z_Cid-"
      },
      "execution_count": 41,
      "outputs": []
    },
    {
      "cell_type": "code",
      "source": [
        ""
      ],
      "metadata": {
        "id": "3th54uVcC1V_"
      },
      "execution_count": null,
      "outputs": []
    }
  ]
}