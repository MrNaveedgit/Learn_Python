{
  "nbformat": 4,
  "nbformat_minor": 0,
  "metadata": {
    "colab": {
      "name": "List Interview Questions.ipynb",
      "provenance": []
    },
    "kernelspec": {
      "name": "python3",
      "display_name": "Python 3"
    },
    "language_info": {
      "name": "python"
    }
  },
  "cells": [
    {
      "cell_type": "markdown",
      "source": [
        "## Longest String in the List"
      ],
      "metadata": {
        "id": "prYuN5pN12-X"
      }
    },
    {
      "cell_type": "code",
      "source": [
        "my_list = [\"you\", \"Ukraine\", \"Russia\", \"YoutubeChannel\"]"
      ],
      "metadata": {
        "id": "FRHEytTd1PnK"
      },
      "execution_count": 1,
      "outputs": []
    },
    {
      "cell_type": "code",
      "source": [
        "my_list"
      ],
      "metadata": {
        "colab": {
          "base_uri": "https://localhost:8080/"
        },
        "id": "AN6TeCkn2JW1",
        "outputId": "97e6a07c-7456-4f34-dd06-9f9df109fe97"
      },
      "execution_count": 2,
      "outputs": [
        {
          "output_type": "execute_result",
          "data": {
            "text/plain": [
              "['you', 'Ukraine', 'Russia', 'YoutubeChannel']"
            ]
          },
          "metadata": {},
          "execution_count": 2
        }
      ]
    },
    {
      "cell_type": "code",
      "source": [
        "longest_string = \"\"\n",
        "\n",
        "for string_item in my_list:\n",
        "  if  len(string_item) > len(longest_string):\n",
        "    longest_string = string_item\n",
        "\n",
        "print(longest_string)"
      ],
      "metadata": {
        "colab": {
          "base_uri": "https://localhost:8080/"
        },
        "id": "2OpOnRM52KRi",
        "outputId": "a76dcde7-d0b9-4457-8a30-dc7396b82f9e"
      },
      "execution_count": 3,
      "outputs": [
        {
          "output_type": "stream",
          "name": "stdout",
          "text": [
            "YoutubeChannel\n"
          ]
        }
      ]
    },
    {
      "cell_type": "markdown",
      "source": [
        "## Reverse a List in Python"
      ],
      "metadata": {
        "id": "Yaa9Iz9N2l7b"
      }
    },
    {
      "cell_type": "code",
      "source": [
        "my_list = [1, 2, 3, 4, 5, 6, 7]\n",
        "my_list"
      ],
      "metadata": {
        "colab": {
          "base_uri": "https://localhost:8080/"
        },
        "id": "ehSufBrN2hKE",
        "outputId": "266b8636-68a1-455e-ac9e-8e0eb1208f58"
      },
      "execution_count": 4,
      "outputs": [
        {
          "output_type": "execute_result",
          "data": {
            "text/plain": [
              "[1, 2, 3, 4, 5, 6, 7]"
            ]
          },
          "metadata": {},
          "execution_count": 4
        }
      ]
    },
    {
      "cell_type": "code",
      "source": [
        "my_list.reverse()\n",
        "print(my_list)"
      ],
      "metadata": {
        "colab": {
          "base_uri": "https://localhost:8080/"
        },
        "id": "NsoiWEn-2y28",
        "outputId": "6400cec3-1620-4eab-d932-2c8e334a9afd"
      },
      "execution_count": 5,
      "outputs": [
        {
          "output_type": "stream",
          "name": "stdout",
          "text": [
            "[7, 6, 5, 4, 3, 2, 1]\n"
          ]
        }
      ]
    },
    {
      "cell_type": "code",
      "source": [
        "my_list = [1, 2, 3, 4, 5, 6, 7]\n",
        "my_list\n"
      ],
      "metadata": {
        "colab": {
          "base_uri": "https://localhost:8080/"
        },
        "id": "U3OYyI8o23WJ",
        "outputId": "f728a087-dbd3-4c1c-df48-8c65cd9e2011"
      },
      "execution_count": 6,
      "outputs": [
        {
          "output_type": "execute_result",
          "data": {
            "text/plain": [
              "[1, 2, 3, 4, 5, 6, 7]"
            ]
          },
          "metadata": {},
          "execution_count": 6
        }
      ]
    },
    {
      "cell_type": "code",
      "source": [
        "reverse_list = my_list[::-1]\n",
        "print(reverse_list)"
      ],
      "metadata": {
        "colab": {
          "base_uri": "https://localhost:8080/"
        },
        "id": "TisgF4I22-HL",
        "outputId": "24678399-539b-4b1b-acc8-43f96548d72e"
      },
      "execution_count": 7,
      "outputs": [
        {
          "output_type": "stream",
          "name": "stdout",
          "text": [
            "[7, 6, 5, 4, 3, 2, 1]\n"
          ]
        }
      ]
    },
    {
      "cell_type": "markdown",
      "source": [
        "## Remove Duplicate Items"
      ],
      "metadata": {
        "id": "5yw9ubvk3Kp1"
      }
    },
    {
      "cell_type": "code",
      "source": [
        "numbers_list = [ 1, 1, 2, 2, 2, 3, 4, 5]\n",
        "print(numbers_list)"
      ],
      "metadata": {
        "colab": {
          "base_uri": "https://localhost:8080/"
        },
        "id": "EvzrflV43EUK",
        "outputId": "5b0b20a2-daed-484c-c54c-63fc9023aa49"
      },
      "execution_count": 8,
      "outputs": [
        {
          "output_type": "stream",
          "name": "stdout",
          "text": [
            "[1, 1, 2, 2, 2, 3, 4, 5]\n"
          ]
        }
      ]
    },
    {
      "cell_type": "code",
      "source": [
        "print(list(set(numbers_list)))"
      ],
      "metadata": {
        "colab": {
          "base_uri": "https://localhost:8080/"
        },
        "id": "getYxa1N3W_5",
        "outputId": "cb171687-cdbd-43a3-a815-4c88fa405947"
      },
      "execution_count": 9,
      "outputs": [
        {
          "output_type": "stream",
          "name": "stdout",
          "text": [
            "[1, 2, 3, 4, 5]\n"
          ]
        }
      ]
    },
    {
      "cell_type": "markdown",
      "source": [
        "## List of Characters to String"
      ],
      "metadata": {
        "id": "WKWHXWmR3shg"
      }
    },
    {
      "cell_type": "code",
      "source": [
        "char_list = [\"N\",\"A\", \"V\", \"E\",\"E\", \"D\"]\n",
        "result_string = \"\".join(char_list)\n",
        "print(result_string)"
      ],
      "metadata": {
        "colab": {
          "base_uri": "https://localhost:8080/"
        },
        "id": "bNuv-0mg3hl4",
        "outputId": "d1297b03-a1cb-4943-eb14-320dfe7983d9"
      },
      "execution_count": 10,
      "outputs": [
        {
          "output_type": "stream",
          "name": "stdout",
          "text": [
            "NAVEED\n"
          ]
        }
      ]
    },
    {
      "cell_type": "code",
      "source": [
        ""
      ],
      "metadata": {
        "id": "4OPt3qNq4wN4"
      },
      "execution_count": null,
      "outputs": []
    }
  ]
}