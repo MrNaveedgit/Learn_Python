{
  "nbformat": 4,
  "nbformat_minor": 0,
  "metadata": {
    "colab": {
      "name": "Sets in Python.ipynb",
      "provenance": []
    },
    "kernelspec": {
      "name": "python3",
      "display_name": "Python 3"
    },
    "language_info": {
      "name": "python"
    }
  },
  "cells": [
    {
      "cell_type": "code",
      "source": [
        "my_set = {89, 74, 99, 76, 89, 887}\n",
        "print(my_set)"
      ],
      "metadata": {
        "colab": {
          "base_uri": "https://localhost:8080/"
        },
        "id": "H4wYHW7V2e1r",
        "outputId": "60f6c15c-63c9-4097-92b1-3999dca119e0"
      },
      "execution_count": 1,
      "outputs": [
        {
          "output_type": "stream",
          "name": "stdout",
          "text": [
            "{99, 74, 76, 887, 89}\n"
          ]
        }
      ]
    },
    {
      "cell_type": "code",
      "source": [
        "len(my_set)"
      ],
      "metadata": {
        "colab": {
          "base_uri": "https://localhost:8080/"
        },
        "id": "SPe8Kj7m3K_N",
        "outputId": "cf88b7a7-c12e-4bd7-bd41-a2a4288909fb"
      },
      "execution_count": 2,
      "outputs": [
        {
          "output_type": "execute_result",
          "data": {
            "text/plain": [
              "5"
            ]
          },
          "metadata": {},
          "execution_count": 2
        }
      ]
    },
    {
      "cell_type": "code",
      "source": [
        "second_set = {\"naveed\", 1231, \"Russia\", \"Ukraine\"}\n",
        "print(second_set)"
      ],
      "metadata": {
        "colab": {
          "base_uri": "https://localhost:8080/"
        },
        "id": "W7fhY16r3Qkj",
        "outputId": "c443ecb8-520c-4e38-e0cf-cdf5c2ab831b"
      },
      "execution_count": 3,
      "outputs": [
        {
          "output_type": "stream",
          "name": "stdout",
          "text": [
            "{1231, 'Ukraine', 'Russia', 'naveed'}\n"
          ]
        }
      ]
    },
    {
      "cell_type": "markdown",
      "source": [
        "## Iterate"
      ],
      "metadata": {
        "id": "5cbbliLm3iGI"
      }
    },
    {
      "cell_type": "code",
      "source": [
        "for item in my_set:\n",
        "  print(item)"
      ],
      "metadata": {
        "colab": {
          "base_uri": "https://localhost:8080/"
        },
        "id": "fc1DZcoI3eDi",
        "outputId": "6503e51e-14ce-416d-e985-a57426d1e50c"
      },
      "execution_count": 4,
      "outputs": [
        {
          "output_type": "stream",
          "name": "stdout",
          "text": [
            "99\n",
            "74\n",
            "76\n",
            "887\n",
            "89\n"
          ]
        }
      ]
    },
    {
      "cell_type": "markdown",
      "source": [
        "## add item"
      ],
      "metadata": {
        "id": "hdlOYxLC3tCU"
      }
    },
    {
      "cell_type": "code",
      "source": [
        "my_set.add(\"Subcribe to Channel\")"
      ],
      "metadata": {
        "id": "3b-sPYOj3oLh"
      },
      "execution_count": 5,
      "outputs": []
    },
    {
      "cell_type": "code",
      "source": [
        "print(my_set)"
      ],
      "metadata": {
        "colab": {
          "base_uri": "https://localhost:8080/"
        },
        "id": "QARAIBCT3ygU",
        "outputId": "a46e2c7b-30db-4d6f-9195-d9b6afa6cc57"
      },
      "execution_count": 6,
      "outputs": [
        {
          "output_type": "stream",
          "name": "stdout",
          "text": [
            "{'Subcribe to Channel', 99, 74, 76, 887, 89}\n"
          ]
        }
      ]
    },
    {
      "cell_type": "markdown",
      "source": [
        "## Remove item from set"
      ],
      "metadata": {
        "id": "Up7lgQr834wr"
      }
    },
    {
      "cell_type": "code",
      "source": [
        "my_set.remove(99)"
      ],
      "metadata": {
        "id": "9WUszKqL30Xp"
      },
      "execution_count": 7,
      "outputs": []
    },
    {
      "cell_type": "code",
      "source": [
        "print(my_set)"
      ],
      "metadata": {
        "colab": {
          "base_uri": "https://localhost:8080/"
        },
        "id": "uXjh0ho14C9M",
        "outputId": "b5bbaa4c-6a13-4554-f835-db4e011c0527"
      },
      "execution_count": 8,
      "outputs": [
        {
          "output_type": "stream",
          "name": "stdout",
          "text": [
            "{'Subcribe to Channel', 74, 76, 887, 89}\n"
          ]
        }
      ]
    },
    {
      "cell_type": "code",
      "source": [
        "my_set.remove(99)"
      ],
      "metadata": {
        "colab": {
          "base_uri": "https://localhost:8080/",
          "height": 165
        },
        "id": "lMxq93RK4ENJ",
        "outputId": "449add9e-b788-4af3-d226-6dccb30a898c"
      },
      "execution_count": 9,
      "outputs": [
        {
          "output_type": "error",
          "ename": "KeyError",
          "evalue": "ignored",
          "traceback": [
            "\u001b[0;31m---------------------------------------------------------------------------\u001b[0m",
            "\u001b[0;31mKeyError\u001b[0m                                  Traceback (most recent call last)",
            "\u001b[0;32m<ipython-input-9-24f0cdf323bf>\u001b[0m in \u001b[0;36m<module>\u001b[0;34m()\u001b[0m\n\u001b[0;32m----> 1\u001b[0;31m \u001b[0mmy_set\u001b[0m\u001b[0;34m.\u001b[0m\u001b[0mremove\u001b[0m\u001b[0;34m(\u001b[0m\u001b[0;36m99\u001b[0m\u001b[0;34m)\u001b[0m\u001b[0;34m\u001b[0m\u001b[0;34m\u001b[0m\u001b[0m\n\u001b[0m",
            "\u001b[0;31mKeyError\u001b[0m: 99"
          ]
        }
      ]
    },
    {
      "cell_type": "code",
      "source": [
        "my_set.discard(99)"
      ],
      "metadata": {
        "id": "wXdzEJGA4NQI"
      },
      "execution_count": 10,
      "outputs": []
    },
    {
      "cell_type": "code",
      "source": [
        "print(my_set)"
      ],
      "metadata": {
        "colab": {
          "base_uri": "https://localhost:8080/"
        },
        "id": "1cMSy2Qx4RiY",
        "outputId": "0d6bd875-86de-4acc-a368-a73a2c53dc58"
      },
      "execution_count": 11,
      "outputs": [
        {
          "output_type": "stream",
          "name": "stdout",
          "text": [
            "{'Subcribe to Channel', 74, 76, 887, 89}\n"
          ]
        }
      ]
    },
    {
      "cell_type": "code",
      "source": [
        ""
      ],
      "metadata": {
        "id": "8tBCiedj4S84"
      },
      "execution_count": null,
      "outputs": []
    }
  ]
}