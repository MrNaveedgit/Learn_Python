{
  "nbformat": 4,
  "nbformat_minor": 0,
  "metadata": {
    "colab": {
      "name": "Sets interview Questions.ipynb",
      "provenance": []
    },
    "kernelspec": {
      "name": "python3",
      "display_name": "Python 3"
    },
    "language_info": {
      "name": "python"
    }
  },
  "cells": [
    {
      "cell_type": "code",
      "source": [
        "first_set = { 1, 2}\n",
        "second_set = {1, 2, 3, 4, 5, 6, 7, 8,9,10}"
      ],
      "metadata": {
        "id": "NnpdayZ54xZ9"
      },
      "execution_count": 19,
      "outputs": []
    },
    {
      "cell_type": "markdown",
      "source": [
        "## Check subset"
      ],
      "metadata": {
        "id": "SJoYAztI5H7b"
      }
    },
    {
      "cell_type": "code",
      "source": [
        "first_set.issubset(second_set)"
      ],
      "metadata": {
        "colab": {
          "base_uri": "https://localhost:8080/"
        },
        "id": "2rKM3DbX5FWJ",
        "outputId": "79db418f-f8b5-4971-d688-685daaed357d"
      },
      "execution_count": 20,
      "outputs": [
        {
          "output_type": "execute_result",
          "data": {
            "text/plain": [
              "True"
            ]
          },
          "metadata": {},
          "execution_count": 20
        }
      ]
    },
    {
      "cell_type": "markdown",
      "source": [
        "## Check Specific Value"
      ],
      "metadata": {
        "id": "7qGKVBew5dT8"
      }
    },
    {
      "cell_type": "code",
      "source": [
        "if 77 in second_set:\n",
        "  print(\"yes Exsist\")\n",
        "else:\n",
        "  print(\"Doesn't Exsist\")"
      ],
      "metadata": {
        "colab": {
          "base_uri": "https://localhost:8080/"
        },
        "id": "mF1cImW55TW5",
        "outputId": "68aa0702-d627-4f9c-eaea-67827c11419b"
      },
      "execution_count": 18,
      "outputs": [
        {
          "output_type": "stream",
          "name": "stdout",
          "text": [
            "Doesn't Exsist\n"
          ]
        }
      ]
    },
    {
      "cell_type": "markdown",
      "source": [
        "## Check Superset"
      ],
      "metadata": {
        "id": "GIK4ZPNG5xYE"
      }
    },
    {
      "cell_type": "code",
      "source": [
        "second_set.issuperset(first_set)"
      ],
      "metadata": {
        "colab": {
          "base_uri": "https://localhost:8080/"
        },
        "id": "fOgcNMJ55oJp",
        "outputId": "e9521bdf-ab12-4f2c-bd37-e853175c32e1"
      },
      "execution_count": 22,
      "outputs": [
        {
          "output_type": "execute_result",
          "data": {
            "text/plain": [
              "True"
            ]
          },
          "metadata": {},
          "execution_count": 22
        }
      ]
    },
    {
      "cell_type": "markdown",
      "source": [
        "## Union of sets"
      ],
      "metadata": {
        "id": "eaH3lBpg6FjX"
      }
    },
    {
      "cell_type": "code",
      "source": [
        "first_set = { 1, 2}\n",
        "second_set = {1, 2, 3, 4, 5, 6, 7, 8,9,10}"
      ],
      "metadata": {
        "id": "0JJviNIm6IvW"
      },
      "execution_count": 23,
      "outputs": []
    },
    {
      "cell_type": "code",
      "source": [
        "first_set.union(second_set)"
      ],
      "metadata": {
        "colab": {
          "base_uri": "https://localhost:8080/"
        },
        "id": "hiLqgHG36L2T",
        "outputId": "49717d61-7c9e-49d9-d437-6d2c9e4095e2"
      },
      "execution_count": 24,
      "outputs": [
        {
          "output_type": "execute_result",
          "data": {
            "text/plain": [
              "{1, 2, 3, 4, 5, 6, 7, 8, 9, 10}"
            ]
          },
          "metadata": {},
          "execution_count": 24
        }
      ]
    },
    {
      "cell_type": "markdown",
      "source": [
        "## Intersection of set"
      ],
      "metadata": {
        "id": "O7_DJQ7k6Y4o"
      }
    },
    {
      "cell_type": "code",
      "source": [
        "first_set = { 1, 2 , 4}\n",
        "second_set = {1, 2, 3, 4, 5}"
      ],
      "metadata": {
        "id": "txSpHD_q6VMK"
      },
      "execution_count": 26,
      "outputs": []
    },
    {
      "cell_type": "code",
      "source": [
        "first_set.intersection(second_set)"
      ],
      "metadata": {
        "colab": {
          "base_uri": "https://localhost:8080/"
        },
        "id": "2zVQWXGb6m3D",
        "outputId": "d58d6183-cdcc-4196-84b8-2478b3c15c06"
      },
      "execution_count": 28,
      "outputs": [
        {
          "output_type": "execute_result",
          "data": {
            "text/plain": [
              "{1, 2, 4}"
            ]
          },
          "metadata": {},
          "execution_count": 28
        }
      ]
    },
    {
      "cell_type": "markdown",
      "source": [
        "## Difference of Set"
      ],
      "metadata": {
        "id": "X7aBfFSc60Td"
      }
    },
    {
      "cell_type": "code",
      "source": [
        "second_set.difference(first_set)"
      ],
      "metadata": {
        "colab": {
          "base_uri": "https://localhost:8080/"
        },
        "id": "dy-oiyym6vHy",
        "outputId": "c9b6f9db-d2bf-437d-93e9-45d2d36d67f4"
      },
      "execution_count": 29,
      "outputs": [
        {
          "output_type": "execute_result",
          "data": {
            "text/plain": [
              "{3, 5}"
            ]
          },
          "metadata": {},
          "execution_count": 29
        }
      ]
    },
    {
      "cell_type": "code",
      "source": [
        ""
      ],
      "metadata": {
        "id": "V_6LnCua65zK"
      },
      "execution_count": null,
      "outputs": []
    }
  ]
}