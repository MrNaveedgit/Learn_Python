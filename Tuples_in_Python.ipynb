{
  "nbformat": 4,
  "nbformat_minor": 0,
  "metadata": {
    "colab": {
      "name": "Tuples in Python.ipynb",
      "provenance": [],
      "collapsed_sections": []
    },
    "kernelspec": {
      "name": "python3",
      "display_name": "Python 3"
    },
    "language_info": {
      "name": "python"
    }
  },
  "cells": [
    {
      "cell_type": "code",
      "execution_count": 1,
      "metadata": {
        "colab": {
          "base_uri": "https://localhost:8080/"
        },
        "id": "CWvgg2MARAHS",
        "outputId": "7b001956-2d6e-433d-f8c4-7b5f226ea16e"
      },
      "outputs": [
        {
          "output_type": "stream",
          "name": "stdout",
          "text": [
            "(1, 2, 3)\n"
          ]
        }
      ],
      "source": [
        "my_tuple = (1, 2, 3)\n",
        "print(my_tuple)"
      ]
    },
    {
      "cell_type": "code",
      "source": [
        "my_tuple_dynamic = (\"Naveed\", 122, 412)\n",
        "\n",
        "print(my_tuple_dynamic)"
      ],
      "metadata": {
        "colab": {
          "base_uri": "https://localhost:8080/"
        },
        "id": "rHtkQFCiRH7P",
        "outputId": "1447d4c6-244d-4da5-d08b-4bcb05e25fce"
      },
      "execution_count": 2,
      "outputs": [
        {
          "output_type": "stream",
          "name": "stdout",
          "text": [
            "('Naveed', 122, 412)\n"
          ]
        }
      ]
    },
    {
      "cell_type": "code",
      "source": [
        "len(my_tuple_dynamic)"
      ],
      "metadata": {
        "colab": {
          "base_uri": "https://localhost:8080/"
        },
        "id": "ezcQHsF7RPu7",
        "outputId": "d3289a44-5698-4fbc-8e63-bd54b38f80c0"
      },
      "execution_count": 3,
      "outputs": [
        {
          "output_type": "execute_result",
          "data": {
            "text/plain": [
              "3"
            ]
          },
          "metadata": {},
          "execution_count": 3
        }
      ]
    },
    {
      "cell_type": "code",
      "source": [
        "my_typle_dynamic[1] = 7"
      ],
      "metadata": {
        "colab": {
          "base_uri": "https://localhost:8080/",
          "height": 165
        },
        "id": "6hAanbQtRRRz",
        "outputId": "4e5501ff-c35e-4aa6-e8c9-42469ca3bdda"
      },
      "execution_count": 4,
      "outputs": [
        {
          "output_type": "error",
          "ename": "NameError",
          "evalue": "ignored",
          "traceback": [
            "\u001b[0;31m---------------------------------------------------------------------------\u001b[0m",
            "\u001b[0;31mNameError\u001b[0m                                 Traceback (most recent call last)",
            "\u001b[0;32m<ipython-input-4-a463be5a6520>\u001b[0m in \u001b[0;36m<module>\u001b[0;34m()\u001b[0m\n\u001b[0;32m----> 1\u001b[0;31m \u001b[0mmy_typle_dynamic\u001b[0m\u001b[0;34m[\u001b[0m\u001b[0;36m1\u001b[0m\u001b[0;34m]\u001b[0m \u001b[0;34m=\u001b[0m \u001b[0;36m7\u001b[0m\u001b[0;34m\u001b[0m\u001b[0;34m\u001b[0m\u001b[0m\n\u001b[0m",
            "\u001b[0;31mNameError\u001b[0m: name 'my_typle_dynamic' is not defined"
          ]
        }
      ]
    },
    {
      "cell_type": "code",
      "source": [
        "temp = list(my_tuple_dynamic)\n",
        "temp.append(\"Ahmed\")\n",
        "my_new_tuple = tuple(temp)\n",
        "print(my_new_tuple)"
      ],
      "metadata": {
        "colab": {
          "base_uri": "https://localhost:8080/"
        },
        "id": "gl1ZRAZrRU6z",
        "outputId": "e15c4cd1-1001-4b2f-df86-b9e8c75d7243"
      },
      "execution_count": 6,
      "outputs": [
        {
          "output_type": "stream",
          "name": "stdout",
          "text": [
            "('Naveed', 122, 412, 'Ahmed')\n"
          ]
        }
      ]
    },
    {
      "cell_type": "code",
      "source": [
        "for item in my_new_tuple:\n",
        "  print(item)"
      ],
      "metadata": {
        "colab": {
          "base_uri": "https://localhost:8080/"
        },
        "id": "sTxdTMTVRixC",
        "outputId": "90bf3b64-1e57-43f2-da33-fcfb9bf51500"
      },
      "execution_count": 7,
      "outputs": [
        {
          "output_type": "stream",
          "name": "stdout",
          "text": [
            "Naveed\n",
            "122\n",
            "412\n",
            "Ahmed\n"
          ]
        }
      ]
    },
    {
      "cell_type": "code",
      "source": [
        "my_tuple"
      ],
      "metadata": {
        "colab": {
          "base_uri": "https://localhost:8080/"
        },
        "id": "YjLrunp3RpbT",
        "outputId": "02da46dc-12ec-4849-d9a5-1567f696953f"
      },
      "execution_count": 8,
      "outputs": [
        {
          "output_type": "execute_result",
          "data": {
            "text/plain": [
              "(1, 2, 3)"
            ]
          },
          "metadata": {},
          "execution_count": 8
        }
      ]
    },
    {
      "cell_type": "code",
      "source": [
        "my_new_tuple"
      ],
      "metadata": {
        "colab": {
          "base_uri": "https://localhost:8080/"
        },
        "id": "3u-vyS8IRrJr",
        "outputId": "166c7205-b51d-4c04-a2c7-b8c2942bb368"
      },
      "execution_count": 9,
      "outputs": [
        {
          "output_type": "execute_result",
          "data": {
            "text/plain": [
              "('Naveed', 122, 412, 'Ahmed')"
            ]
          },
          "metadata": {},
          "execution_count": 9
        }
      ]
    },
    {
      "cell_type": "code",
      "source": [
        "final_tuple = my_tuple + my_new_tuple\n",
        "\n",
        "print(final_tuple)"
      ],
      "metadata": {
        "colab": {
          "base_uri": "https://localhost:8080/"
        },
        "id": "Dakh4-zhRtFz",
        "outputId": "56c1813f-c365-4430-9c54-0c276c625183"
      },
      "execution_count": 10,
      "outputs": [
        {
          "output_type": "stream",
          "name": "stdout",
          "text": [
            "(1, 2, 3, 'Naveed', 122, 412, 'Ahmed')\n"
          ]
        }
      ]
    },
    {
      "cell_type": "code",
      "source": [
        ""
      ],
      "metadata": {
        "id": "N4DM9wAUR0Tr"
      },
      "execution_count": null,
      "outputs": []
    }
  ]
}