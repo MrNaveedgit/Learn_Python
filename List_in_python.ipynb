{
  "nbformat": 4,
  "nbformat_minor": 0,
  "metadata": {
    "colab": {
      "name": "List in python.ipynb",
      "provenance": []
    },
    "kernelspec": {
      "name": "python3",
      "display_name": "Python 3"
    },
    "language_info": {
      "name": "python"
    }
  },
  "cells": [
    {
      "cell_type": "code",
      "source": [
        "my_list = [7, 1, 7, 4]"
      ],
      "metadata": {
        "id": "VkkPwy9LBkgH"
      },
      "execution_count": 1,
      "outputs": []
    },
    {
      "cell_type": "code",
      "source": [
        "my_new_list = [\"Naveed\", 2, 43, 43, 'Ahmed']"
      ],
      "metadata": {
        "id": "Ad-Nb4yFB49u"
      },
      "execution_count": 2,
      "outputs": []
    },
    {
      "cell_type": "code",
      "source": [
        "len(my_new_list)"
      ],
      "metadata": {
        "colab": {
          "base_uri": "https://localhost:8080/"
        },
        "id": "buHZogbwCD0A",
        "outputId": "2bbd50e5-d15a-48e0-b973-a1855f84fb7f"
      },
      "execution_count": 3,
      "outputs": [
        {
          "output_type": "execute_result",
          "data": {
            "text/plain": [
              "5"
            ]
          },
          "metadata": {},
          "execution_count": 3
        }
      ]
    },
    {
      "cell_type": "markdown",
      "source": [
        "## Slicing"
      ],
      "metadata": {
        "id": "BwSB9BB_CNTI"
      }
    },
    {
      "cell_type": "code",
      "source": [
        "my_new_list[0]"
      ],
      "metadata": {
        "colab": {
          "base_uri": "https://localhost:8080/",
          "height": 35
        },
        "id": "FFoysLHACJzu",
        "outputId": "a6064819-8f9f-4a75-da6a-41ec882a0e6e"
      },
      "execution_count": 4,
      "outputs": [
        {
          "output_type": "execute_result",
          "data": {
            "text/plain": [
              "'Naveed'"
            ],
            "application/vnd.google.colaboratory.intrinsic+json": {
              "type": "string"
            }
          },
          "metadata": {},
          "execution_count": 4
        }
      ]
    },
    {
      "cell_type": "code",
      "source": [
        "my_new_list[1:]"
      ],
      "metadata": {
        "colab": {
          "base_uri": "https://localhost:8080/"
        },
        "id": "QkMtcJTOCXyf",
        "outputId": "26cf30fd-6424-4973-c6b8-539616f89c2e"
      },
      "execution_count": 5,
      "outputs": [
        {
          "output_type": "execute_result",
          "data": {
            "text/plain": [
              "[2, 43, 43, 'Ahmed']"
            ]
          },
          "metadata": {},
          "execution_count": 5
        }
      ]
    },
    {
      "cell_type": "code",
      "source": [
        "my_new_list[:2]"
      ],
      "metadata": {
        "colab": {
          "base_uri": "https://localhost:8080/"
        },
        "id": "Z7SHKrURCcQ0",
        "outputId": "1918fc2e-e0b7-494c-8cc1-a8eae630781e"
      },
      "execution_count": 6,
      "outputs": [
        {
          "output_type": "execute_result",
          "data": {
            "text/plain": [
              "['Naveed', 2]"
            ]
          },
          "metadata": {},
          "execution_count": 6
        }
      ]
    },
    {
      "cell_type": "code",
      "source": [
        "my_new_list * 2"
      ],
      "metadata": {
        "colab": {
          "base_uri": "https://localhost:8080/"
        },
        "id": "Q1C1IebwCiml",
        "outputId": "71fd6fa2-1428-4287-9c2d-7670e0ef58b7"
      },
      "execution_count": 10,
      "outputs": [
        {
          "output_type": "execute_result",
          "data": {
            "text/plain": [
              "['Naveed', 2, 43, 43, 'Ahmed', 'Naveed', 2, 43, 43, 'Ahmed']"
            ]
          },
          "metadata": {},
          "execution_count": 10
        }
      ]
    },
    {
      "cell_type": "markdown",
      "source": [
        "## Basic Functions"
      ],
      "metadata": {
        "id": "nMWDKlGKCzr3"
      }
    },
    {
      "cell_type": "code",
      "source": [
        "my_new_list.append('subcribe')"
      ],
      "metadata": {
        "id": "ESOWkTrPCqg-"
      },
      "execution_count": 11,
      "outputs": []
    },
    {
      "cell_type": "code",
      "source": [
        "my_new_list"
      ],
      "metadata": {
        "colab": {
          "base_uri": "https://localhost:8080/"
        },
        "id": "JrKab9gsC7dk",
        "outputId": "baeb882c-b9ce-40bc-9f1c-7c8c9ed04d61"
      },
      "execution_count": 12,
      "outputs": [
        {
          "output_type": "execute_result",
          "data": {
            "text/plain": [
              "['Naveed', 2, 43, 43, 'Ahmed', 'subcribe']"
            ]
          },
          "metadata": {},
          "execution_count": 12
        }
      ]
    },
    {
      "cell_type": "code",
      "source": [
        "my_new_list.insert(2, \"Welcome\")"
      ],
      "metadata": {
        "id": "YmO26NChC9Fd"
      },
      "execution_count": 13,
      "outputs": []
    },
    {
      "cell_type": "code",
      "source": [
        "my_new_list"
      ],
      "metadata": {
        "colab": {
          "base_uri": "https://localhost:8080/"
        },
        "id": "WDn2oPBxDHd9",
        "outputId": "af8ef833-6f9f-4ecd-cd95-70dda1de9d98"
      },
      "execution_count": 14,
      "outputs": [
        {
          "output_type": "execute_result",
          "data": {
            "text/plain": [
              "['Naveed', 2, 'Welcome', 43, 43, 'Ahmed', 'subcribe']"
            ]
          },
          "metadata": {},
          "execution_count": 14
        }
      ]
    },
    {
      "cell_type": "code",
      "source": [
        "naveed_marks = [82, 21, 13, 141]\n",
        "ahmed_marks = [ 31, 321, 423]\n",
        "\n",
        "naveed_marks.extend(ahmed_marks)\n",
        "print(naveed_marks)"
      ],
      "metadata": {
        "colab": {
          "base_uri": "https://localhost:8080/"
        },
        "id": "3dAcPte0DIYW",
        "outputId": "abf64ec1-2dab-4520-cc4d-12dfd14ba3a1"
      },
      "execution_count": 15,
      "outputs": [
        {
          "output_type": "stream",
          "name": "stdout",
          "text": [
            "[82, 21, 13, 141, 31, 321, 423]\n"
          ]
        }
      ]
    },
    {
      "cell_type": "code",
      "source": [
        "my_new_list.remove(\"Naveed\")"
      ],
      "metadata": {
        "id": "vNDov29iDdnt"
      },
      "execution_count": 16,
      "outputs": []
    },
    {
      "cell_type": "code",
      "source": [
        "my_new_list"
      ],
      "metadata": {
        "colab": {
          "base_uri": "https://localhost:8080/"
        },
        "id": "y2SuPqhNDv5X",
        "outputId": "2b1fff04-a815-41b1-bf44-819a78b028bd"
      },
      "execution_count": 17,
      "outputs": [
        {
          "output_type": "execute_result",
          "data": {
            "text/plain": [
              "[2, 'Welcome', 43, 43, 'Ahmed', 'subcribe']"
            ]
          },
          "metadata": {},
          "execution_count": 17
        }
      ]
    },
    {
      "cell_type": "code",
      "source": [
        "my_new_list.pop(2)"
      ],
      "metadata": {
        "colab": {
          "base_uri": "https://localhost:8080/"
        },
        "id": "t3S3XdqnDxKO",
        "outputId": "428bb788-db8f-4b35-bf15-879f82a00f0d"
      },
      "execution_count": 18,
      "outputs": [
        {
          "output_type": "execute_result",
          "data": {
            "text/plain": [
              "43"
            ]
          },
          "metadata": {},
          "execution_count": 18
        }
      ]
    },
    {
      "cell_type": "code",
      "source": [
        "my_new_list"
      ],
      "metadata": {
        "colab": {
          "base_uri": "https://localhost:8080/"
        },
        "id": "zPIlsi7DD93W",
        "outputId": "b73cb3ed-f25d-4c27-b52f-8ef4e695bd28"
      },
      "execution_count": 19,
      "outputs": [
        {
          "output_type": "execute_result",
          "data": {
            "text/plain": [
              "[2, 'Welcome', 43, 'Ahmed', 'subcribe']"
            ]
          },
          "metadata": {},
          "execution_count": 19
        }
      ]
    },
    {
      "cell_type": "code",
      "source": [
        "del my_new_list[0]"
      ],
      "metadata": {
        "id": "guganJyVD_dF"
      },
      "execution_count": 20,
      "outputs": []
    },
    {
      "cell_type": "code",
      "source": [
        "my_new_list"
      ],
      "metadata": {
        "colab": {
          "base_uri": "https://localhost:8080/"
        },
        "id": "OXzR2wsREHie",
        "outputId": "1d6715b4-5a03-45ac-e9fd-10b4127330ed"
      },
      "execution_count": 21,
      "outputs": [
        {
          "output_type": "execute_result",
          "data": {
            "text/plain": [
              "['Welcome', 43, 'Ahmed', 'subcribe']"
            ]
          },
          "metadata": {},
          "execution_count": 21
        }
      ]
    },
    {
      "cell_type": "markdown",
      "source": [
        "## List Comprehension"
      ],
      "metadata": {
        "id": "RYMupehVEOvH"
      }
    },
    {
      "cell_type": "code",
      "source": [
        "my_list = []\n",
        "\n",
        "for item in \"Naveed_Ahmed_Channel\":\n",
        "  my_list.append(item)\n",
        "\n",
        "print(my_list)"
      ],
      "metadata": {
        "colab": {
          "base_uri": "https://localhost:8080/"
        },
        "id": "kkocUbWiEI01",
        "outputId": "0bc84ece-bb79-4a2b-9f73-fb6e038c6a4f"
      },
      "execution_count": 22,
      "outputs": [
        {
          "output_type": "stream",
          "name": "stdout",
          "text": [
            "['N', 'a', 'v', 'e', 'e', 'd', '_', 'A', 'h', 'm', 'e', 'd', '_', 'C', 'h', 'a', 'n', 'n', 'e', 'l']\n"
          ]
        }
      ]
    },
    {
      "cell_type": "code",
      "source": [
        "my_list = []\n",
        "\n",
        "my_list = [item for item in \"Naveed_Ahmed_Channel\"]\n",
        "\n",
        "print(my_list)"
      ],
      "metadata": {
        "colab": {
          "base_uri": "https://localhost:8080/"
        },
        "id": "GjGhWC3vEmqP",
        "outputId": "c1c1ec38-f659-46c3-8e3f-8107238e6111"
      },
      "execution_count": 23,
      "outputs": [
        {
          "output_type": "stream",
          "name": "stdout",
          "text": [
            "['N', 'a', 'v', 'e', 'e', 'd', '_', 'A', 'h', 'm', 'e', 'd', '_', 'C', 'h', 'a', 'n', 'n', 'e', 'l']\n"
          ]
        }
      ]
    },
    {
      "cell_type": "code",
      "source": [
        ""
      ],
      "metadata": {
        "id": "QmdkcVGjE29l"
      },
      "execution_count": null,
      "outputs": []
    }
  ]
}